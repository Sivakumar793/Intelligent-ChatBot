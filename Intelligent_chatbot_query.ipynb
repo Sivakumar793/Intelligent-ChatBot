{
  "nbformat": 4,
  "nbformat_minor": 0,
  "metadata": {
    "colab": {
      "provenance": []
    },
    "kernelspec": {
      "name": "python3",
      "display_name": "Python 3"
    },
    "language_info": {
      "name": "python"
    }
  },
  "cells": [
    {
      "cell_type": "code",
      "execution_count": 1,
      "metadata": {
        "colab": {
          "base_uri": "https://localhost:8080/"
        },
        "id": "uZQ80s42zSnD",
        "outputId": "4edf36bf-9c03-4d29-b34a-cb1f6cc2d023"
      },
      "outputs": [
        {
          "output_type": "stream",
          "name": "stdout",
          "text": [
            "Requirement already satisfied: requests in /usr/local/lib/python3.11/dist-packages (2.32.3)\n",
            "Requirement already satisfied: charset-normalizer<4,>=2 in /usr/local/lib/python3.11/dist-packages (from requests) (3.4.2)\n",
            "Requirement already satisfied: idna<4,>=2.5 in /usr/local/lib/python3.11/dist-packages (from requests) (3.10)\n",
            "Requirement already satisfied: urllib3<3,>=1.21.1 in /usr/local/lib/python3.11/dist-packages (from requests) (2.4.0)\n",
            "Requirement already satisfied: certifi>=2017.4.17 in /usr/local/lib/python3.11/dist-packages (from requests) (2025.4.26)\n"
          ]
        }
      ],
      "source": [
        "!pip install requests"
      ]
    },
    {
      "cell_type": "code",
      "source": [
        "api_key=\"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\""
      ],
      "metadata": {
        "id": "rg3TCM2Y1wSo"
      },
      "execution_count": 3,
      "outputs": []
    },
    {
      "cell_type": "code",
      "source": [
        "!pip install groq"
      ],
      "metadata": {
        "colab": {
          "base_uri": "https://localhost:8080/"
        },
        "id": "XEsYunsK4-LN",
        "outputId": "80620db3-6c9b-4459-dfbd-5eba0b94dc6c"
      },
      "execution_count": 13,
      "outputs": [
        {
          "output_type": "stream",
          "name": "stdout",
          "text": [
            "Requirement already satisfied: groq in /usr/local/lib/python3.11/dist-packages (0.28.0)\n",
            "Requirement already satisfied: anyio<5,>=3.5.0 in /usr/local/lib/python3.11/dist-packages (from groq) (4.9.0)\n",
            "Requirement already satisfied: distro<2,>=1.7.0 in /usr/local/lib/python3.11/dist-packages (from groq) (1.9.0)\n",
            "Requirement already satisfied: httpx<1,>=0.23.0 in /usr/local/lib/python3.11/dist-packages (from groq) (0.28.1)\n",
            "Requirement already satisfied: pydantic<3,>=1.9.0 in /usr/local/lib/python3.11/dist-packages (from groq) (2.11.5)\n",
            "Requirement already satisfied: sniffio in /usr/local/lib/python3.11/dist-packages (from groq) (1.3.1)\n",
            "Requirement already satisfied: typing-extensions<5,>=4.10 in /usr/local/lib/python3.11/dist-packages (from groq) (4.14.0)\n",
            "Requirement already satisfied: idna>=2.8 in /usr/local/lib/python3.11/dist-packages (from anyio<5,>=3.5.0->groq) (3.10)\n",
            "Requirement already satisfied: certifi in /usr/local/lib/python3.11/dist-packages (from httpx<1,>=0.23.0->groq) (2025.4.26)\n",
            "Requirement already satisfied: httpcore==1.* in /usr/local/lib/python3.11/dist-packages (from httpx<1,>=0.23.0->groq) (1.0.9)\n",
            "Requirement already satisfied: h11>=0.16 in /usr/local/lib/python3.11/dist-packages (from httpcore==1.*->httpx<1,>=0.23.0->groq) (0.16.0)\n",
            "Requirement already satisfied: annotated-types>=0.6.0 in /usr/local/lib/python3.11/dist-packages (from pydantic<3,>=1.9.0->groq) (0.7.0)\n",
            "Requirement already satisfied: pydantic-core==2.33.2 in /usr/local/lib/python3.11/dist-packages (from pydantic<3,>=1.9.0->groq) (2.33.2)\n",
            "Requirement already satisfied: typing-inspection>=0.4.0 in /usr/local/lib/python3.11/dist-packages (from pydantic<3,>=1.9.0->groq) (0.4.1)\n"
          ]
        }
      ]
    },
    {
      "cell_type": "code",
      "source": [
        "\n",
        "import os\n",
        "\n",
        "os.environ[\"GROQ_API_KEY\"] = \"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\""
      ],
      "metadata": {
        "id": "IzqlUX232dm0"
      },
      "execution_count": 14,
      "outputs": []
    },
    {
      "cell_type": "code",
      "source": [
        "from groq import Groq\n",
        "\n",
        "client = Groq()\n",
        "completion = client.chat.completions.create(\n",
        "    model=\"llama-3.3-70b-versatile\",\n",
        "    messages=[\n",
        "      {\n",
        "        \"role\": \"user\",\n",
        "        \"content\": \"what is the  gdp of india in 2023\\n\"\n",
        "      }\n",
        "    ],\n",
        "    temperature=1,\n",
        "    max_completion_tokens=1024,\n",
        "    top_p=1,\n",
        "    stream=True,\n",
        "    stop=None,\n",
        ")\n",
        "\n",
        "for chunk in completion:\n",
        "    print(chunk.choices[0].delta.content or \"\", end=\"\")\n"
      ],
      "metadata": {
        "colab": {
          "base_uri": "https://localhost:8080/"
        },
        "id": "K9TixR2d6nJl",
        "outputId": "37446f29-f92c-4e0a-beef-6f3886962691"
      },
      "execution_count": 18,
      "outputs": [
        {
          "output_type": "stream",
          "name": "stdout",
          "text": [
            "According to the International Monetary Fund (IMF), the estimated GDP of India in 2023 is approximately $3.73 trillion. However, please note that these numbers are subject to change and may vary depending on the source and methodology used.\n",
            "\n",
            "Here's a rough breakdown of India's GDP in recent years:\n",
            "\n",
            "* 2021: $2.76 trillion\n",
            "* 2022: $3.53 trillion\n",
            "* 2023 (estimated): $3.73 trillion\n",
            "\n",
            "It's worth noting that India's GDP is expected to continue growing in the coming years, driven by factors such as a large and growing consumer market, significant investments in infrastructure, and a rapidly expanding services sector.\n",
            "\n",
            "Sources:\n",
            "\n",
            "* International Monetary Fund (IMF)\n",
            "* World Bank\n",
            "* Reserve Bank of India (RBI)\n",
            "* National Statistical Office (NSO), Government of India\n",
            "\n",
            "Please keep in mind that GDP estimates can vary depending on the source and methodology used, so these numbers are approximate and subject to revision."
          ]
        }
      ]
    },
    {
      "cell_type": "code",
      "source": [
        "from groq import Groq\n",
        "\n",
        "client = Groq()\n",
        "completion = client.chat.completions.create(\n",
        "    model=\"llama-3.3-70b-versatile\",\n",
        "    messages=[\n",
        "      {\n",
        "        \"role\": \"user\",\n",
        "        \"content\": \"write a python code for finding largest number in a list\\n\"\n",
        "      }\n",
        "    ],\n",
        "    temperature=1,\n",
        "    max_completion_tokens=1024,\n",
        "    top_p=1,\n",
        "    stream=True,\n",
        "    stop=None,\n",
        ")\n",
        "\n",
        "for chunk in completion:\n",
        "    print(chunk.choices[0].delta.content or \"\", end=\"\")\n"
      ],
      "metadata": {
        "colab": {
          "base_uri": "https://localhost:8080/"
        },
        "id": "3Brpz5yh7gEf",
        "outputId": "6e170960-fb79-4e54-a23d-73abde37ae96"
      },
      "execution_count": 19,
      "outputs": [
        {
          "output_type": "stream",
          "name": "stdout",
          "text": [
            "**Finding the Largest Number in a List using Python**\n",
            "===========================================================\n",
            "\n",
            "Here's a simple Python function to find the largest number in a list:\n",
            "\n",
            "```python\n",
            "def find_largest_number(nums):\n",
            "    \"\"\"\n",
            "    This function finds the largest number in a given list of numbers.\n",
            "\n",
            "    Args:\n",
            "        nums (list): A list of numbers.\n",
            "\n",
            "    Returns:\n",
            "        int: The largest number in the list.\n",
            "    \"\"\"\n",
            "    if len(nums) == 0:\n",
            "        return None\n",
            "    return max(nums)\n",
            "\n",
            "# Example usage\n",
            "numbers = [12, 45, 7, 23, 56, 89, 34]\n",
            "largest_number = find_largest_number(numbers)\n",
            "print(\"Largest number in the list:\", largest_number)\n",
            "```\n",
            "\n",
            "**How it works:**\n",
            "\n",
            "1.  The `find_largest_number` function takes a list of numbers `nums` as input.\n",
            "2.  It checks if the list is empty. If it is, the function returns `None`.\n",
            "3.  If the list is not empty, the function uses the built-in `max()` function to find the largest number in the list.\n",
            "4.  Finally, it returns the largest number.\n",
            "\n",
            "**Alternative implementation:**\n",
            "If you want to implement it manually without using the `max()` function, you can do it like this:\n",
            "\n",
            "```python\n",
            "def find_largest_number_manual(nums):\n",
            "    \"\"\"\n",
            "    This function finds the largest number in a given list of numbers manually.\n",
            "\n",
            "    Args:\n",
            "        nums (list): A list of numbers.\n",
            "\n",
            "    Returns:\n",
            "        int: The largest number in the list.\n",
            "    \"\"\"\n",
            "    if len(nums) == 0:\n",
            "        return None\n",
            "    largest = nums[0]\n",
            "    for num in nums:\n",
            "        if num > largest:\n",
            "            largest = num\n",
            "    return largest\n",
            "\n",
            "# Example usage\n",
            "numbers = [12, 45, 7, 23, 56, 89, 34]\n",
            "largest_number_manual = find_largest_number_manual(numbers)\n",
            "print(\"Largest number in the list (manual):\", largest_number_manual)\n",
            "```\n",
            "\n",
            "This manual implementation iterates through the list and keeps track of the largest number encountered so far."
          ]
        }
      ]
    },
    {
      "cell_type": "code",
      "source": [
        "from groq import Groq\n",
        "\n",
        "client = Groq()\n",
        "completion = client.chat.completions.create(\n",
        "    model=\"llama-3.3-70b-versatile\",\n",
        "    messages=[\n",
        "      {\n",
        "        \"role\": \"user\",\n",
        "        \"content\": \"Today, my age is exactly 25. Then what me what's my age on 500 days ago\\n\"\n",
        "      }\n",
        "    ],\n",
        "    temperature=1,\n",
        "    max_completion_tokens=1024,\n",
        "    top_p=1,\n",
        "    stream=True,\n",
        "    stop=None,\n",
        ")\n",
        "\n",
        "for chunk in completion:\n",
        "    print(chunk.choices[0].delta.content or \"\", end=\"\")\n"
      ],
      "metadata": {
        "colab": {
          "base_uri": "https://localhost:8080/"
        },
        "id": "Hp5TW_Xd7k2X",
        "outputId": "aa9c60d4-e8fc-4a28-93a2-b959e2ea2c99"
      },
      "execution_count": 20,
      "outputs": [
        {
          "output_type": "stream",
          "name": "stdout",
          "text": [
            "To find your age 500 days ago, we need to calculate how many years and days that is.\n",
            "\n",
            "There are 365.25 days in a year, so:\n",
            "\n",
            "500 days / 365.25 days/year ≈ 1.37 years\n",
            "\n",
            "Since you're currently 25 years old, we'll subtract 1.37 years from your current age:\n",
            "\n",
            "25 years - 1.37 years ≈ 23.63 years\n",
            "\n",
            "So, 500 days ago, you were approximately 23 years old."
          ]
        }
      ]
    },
    {
      "cell_type": "code",
      "source": [
        "from groq import Groq\n",
        "\n",
        "client = Groq()\n",
        "completion = client.chat.completions.create(\n",
        "    model=\"llama-3.3-70b-versatile\",\n",
        "    messages=[\n",
        "      {\n",
        "        \"role\": \"user\",\n",
        "        \"content\": \"What is the GST tax collected by govt of india in 2023\"\n",
        "      }\n",
        "    ],\n",
        "    temperature=1,\n",
        "    max_completion_tokens=1024,\n",
        "    top_p=1,\n",
        "    stream=True,\n",
        "    stop=None,\n",
        ")\n",
        "\n",
        "for chunk in completion:\n",
        "    print(chunk.choices[0].delta.content or \"\", end=\"\")\n"
      ],
      "metadata": {
        "colab": {
          "base_uri": "https://localhost:8080/"
        },
        "id": "GmIVB4eG9BE7",
        "outputId": "cada91fb-0608-4009-ec26-0e52b19c05e7"
      },
      "execution_count": 21,
      "outputs": [
        {
          "output_type": "stream",
          "name": "stdout",
          "text": [
            "The Goods and Services Tax (GST) collection data for 2023 is available up to the month of February 2023, as per the official releases from the Ministry of Finance, Government of India. \n",
            "\n",
            "Here's a brief overview of the GST collection for the fiscal year 2023 (up to February 2023):\n",
            "\n",
            "- **April 2022:** ₹1.68 lakh crore (US$ 22.2 billion)\n",
            "- **May 2022:** ₹1.40 lakh crore (US$ 18.6 billion)\n",
            "- **June 2022:** ₹1.44 lakh crore (US$ 19.1 billion)\n",
            "- **July 2022:** ₹1.49 lakh crore (US$ 19.8 billion)\n",
            "- **August 2022:** ₹1.43 lakh crore (US$ 19.0 billion)\n",
            "- **September 2022:** ₹1.47 lakh crore (US$ 19.4 billion)\n",
            "- **October 2022:** ₹1.52 lakh crore (US$ 20.1 billion)\n",
            "- **November 2022:** ₹1.45 lakh crore (US$ 19.2 billion)\n",
            "- **December 2022:** ₹1.49 lakh crore (US$ 19.7 billion)\n",
            "- **January 2023:** ₹1.56 lakh crore (US$ 20.7 billion)\n",
            "- **February 2023:** ₹1.55 lakh crore (US$ 20.5 billion)\n",
            "\n",
            "According to the released data, the total GST collection for the 11 months (April 2022 to February 2023) of the fiscal year 2023 is approximately ₹16.33 lakh crore (US$ 216.9 billion).\n",
            "\n",
            "Keep in mind that the GST collection data for the remaining month (March 2023) is not available yet, and these numbers may change once the complete fiscal year data is released. For the most up-to-date information, I recommend visiting the official website of the Ministry of Finance, Government of India."
          ]
        }
      ]
    },
    {
      "cell_type": "code",
      "source": [
        "from groq import Groq\n",
        "\n",
        "client = Groq()\n",
        "completion = client.chat.completions.create(\n",
        "    model=\"llama-3.3-70b-versatile\",\n",
        "    messages=[\n",
        "        {\n",
        "            \"role\": \"user\",\n",
        "            \"content\": \"\\\"response_format\\\": {\\\"type\\\": \\\"json_object\\\"}\"\n",
        "        },\n",
        "        {\n",
        "            \"role\": \"user\",\n",
        "            \"content\": \"- Entity: The company name mentioned in the query (Flipkart).\\n\\n- Parameter: The performance metric mentioned in the query (GMV).\\n\\n- Start Date: The start date of the time period for which the metric is requested.(Todays Date minus one year)\\n\\n- End Date: The end date of the time period for which the metric is requested.(Todays Date)\"\n",
        "        },\n",
        "        {\n",
        "            \"role\": \"assistant\",\n",
        "            \"content\": \"\\\"Give me Flipkart, Amazon, Wipro, TCS, Google, Accenture, Capgemini, and Cognizant's GMV from 2023-01-18 to 2024-01-18\\\", \"\n",
        "        },\n",
        "        {\n",
        "            \"role\": \"user\",\n",
        "            \"content\": \"each of the companies with the multiple parameter \\\"revenue\\\",\\\"gvm\\\", and more and the start and end dates specified as \\\"2024-01-18\\\" to \\\"2025-01-18\\\".\"\n",
        "        },\n",
        "        {\n",
        "            \"role\": \"assistant\",\n",
        "            \"content\": \"get me only flipkart's gmv value for the last one year\"\n",
        "        },\n",
        "        {\n",
        "            \"role\": \"user\",\n",
        "            \"content\": \"compare flipkart's gmv value for the last one year with amazon\"\n",
        "        }\n",
        "    ],\n",
        "    temperature=1,\n",
        "    max_completion_tokens=1024,\n",
        "    top_p=1,\n",
        "    stream=True,\n",
        "    stop=None,\n",
        ")\n",
        "\n",
        "for chunk in completion:\n",
        "    print(chunk.choices[0].delta.content or \"\", end=\"\")\n"
      ],
      "metadata": {
        "colab": {
          "base_uri": "https://localhost:8080/"
        },
        "id": "1J82HYnm-h2I",
        "outputId": "dbb34c30-0ae3-4927-c984-c9c658b764c7"
      },
      "execution_count": 22,
      "outputs": [
        {
          "output_type": "stream",
          "name": "stdout",
          "text": [
            "Here is the response in JSON format:\n",
            "\n",
            "```\n",
            "{\n",
            "  \"entity1\": \"Flipkart\",\n",
            "  \"entity2\": \"Amazon\",\n",
            "  \"parameter\": \"GMV\",\n",
            "  \"start_date\": \"2024-01-18\",\n",
            "  \"end_date\": \"2025-01-18\",\n",
            "  \"result\": {\n",
            "    \"Flipkart\": {\n",
            "      \"GMV\": 50000\n",
            "    },\n",
            "    \"Amazon\": {\n",
            "      \"GMV\": 70000\n",
            "    },\n",
            "    \"comparison\": \"Amazon's GMV is higher than Flipkart's GMV by 20000\"\n",
            "  }\n",
            "}\n",
            "```"
          ]
        }
      ]
    },
    {
      "cell_type": "code",
      "source": [
        "from groq import Groq\n",
        "\n",
        "client = Groq()\n",
        "completion = client.chat.completions.create(\n",
        "    model=\"llama-3.3-70b-versatile\",\n",
        "    messages=[\n",
        "      {\n",
        "        \"role\": \"user\",\n",
        "        \"content\": \"what is the  gdp of india in 2023 use json model\"\n",
        "      }\n",
        "    ],\n",
        "    temperature=1,\n",
        "    max_completion_tokens=1024,\n",
        "    top_p=1,\n",
        "    stream=False,\n",
        "    response_format={\"type\": \"json_object\"},\n",
        "    stop=None,\n",
        ")\n",
        "\n",
        "print(completion.choices[0].message)\n"
      ],
      "metadata": {
        "colab": {
          "base_uri": "https://localhost:8080/"
        },
        "id": "zRYxl0_a_os2",
        "outputId": "cb5b0e76-6378-4258-d864-53f1c219dc11"
      },
      "execution_count": 23,
      "outputs": [
        {
          "output_type": "stream",
          "name": "stdout",
          "text": [
            "ChatCompletionMessage(content='{\\n   \"country\":\"India\",\\n   \"year\":2023,\\n   \"GDP\":{\\n      \"nominal\":3.53,\\n      \"PPP\":11.33,\\n      \"unit\":\"trillion USD\"\\n   },\\n   \"source\":\"International Monetary Fund\"\\n}', role='assistant', executed_tools=None, function_call=None, reasoning=None, tool_calls=None)\n"
          ]
        }
      ]
    },
    {
      "cell_type": "code",
      "source": [
        "from groq import Groq\n",
        "\n",
        "client = Groq()\n",
        "completion = client.chat.completions.create(\n",
        "    model=\"llama-3.3-70b-versatile\",\n",
        "    messages=[\n",
        "      {\n",
        "        \"role\": \"user\",\n",
        "        \"content\": \"what is the  gdp of india in 2023\\n\\nwhat is the capital of india\\n\\nwrite function of swapping two numbers\\n\\n\"\n",
        "      }\n",
        "    ],\n",
        "    temperature=1,\n",
        "    max_completion_tokens=1024,\n",
        "    top_p=1,\n",
        "    stream=True,\n",
        "    stop=None,\n",
        ")\n",
        "\n",
        "for chunk in completion:\n",
        "    print(chunk.choices[0].delta.content or \"\", end=\"\")"
      ],
      "metadata": {
        "colab": {
          "base_uri": "https://localhost:8080/"
        },
        "id": "ypyIAKRJAFsa",
        "outputId": "26baf49c-50af-4a0c-ecb8-0960f1bccb94"
      },
      "execution_count": 27,
      "outputs": [
        {
          "output_type": "stream",
          "name": "stdout",
          "text": [
            "**GDP of India in 2023:**\n",
            "The GDP (Gross Domestic Product) of India in 2023 is estimated to be around $3.53 trillion USD, according to the International Monetary Fund (IMF). However, please note that GDP figures can vary depending on the source and methodology used.\n",
            "\n",
            "**Capital of India:**\n",
            "The capital of India is **New Delhi**.\n",
            "\n",
            "**Function to Swap Two Numbers:**\n",
            "Here is a simple function in Python to swap two numbers:\n",
            "```python\n",
            "def swap_numbers(a, b):\n",
            "    \"\"\"\n",
            "    Swap two numbers using a temporary variable.\n",
            "    \n",
            "    Args:\n",
            "        a (int): The first number.\n",
            "        b (int): The second number.\n",
            "    \n",
            "    Returns:\n",
            "        tuple: A tuple containing the swapped numbers.\n",
            "    \"\"\"\n",
            "    temp = a\n",
            "    a = b\n",
            "    b = temp\n",
            "    return a, b\n",
            "\n",
            "# Example usage:\n",
            "num1 = 5\n",
            "num2 = 10\n",
            "print(\"Before swap: num1 =\", num1, \"num2 =\", num2)\n",
            "num1, num2 = swap_numbers(num1, num2)\n",
            "print(\"After swap: num1 =\", num1, \"num2 =\", num2)\n",
            "```\n",
            "Alternatively, you can use a more concise and Pythonic way to swap two numbers without using a temporary variable:\n",
            "```python\n",
            "def swap_numbers(a, b):\n",
            "    return b, a\n",
            "\n",
            "# Example usage:\n",
            "num1 = 5\n",
            "num2 = 10\n",
            "print(\"Before swap: num1 =\", num1, \"num2 =\", num2)\n",
            "num1, num2 = swap_numbers(num1, num2)\n",
            "print(\"After swap: num1 =\", num1, \"num2 =\", num2)\n",
            "```"
          ]
        }
      ]
    }
  ]
}